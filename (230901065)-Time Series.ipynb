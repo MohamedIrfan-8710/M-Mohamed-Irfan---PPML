{
 "cells": [
  {
   "cell_type": "code",
   "execution_count": 2,
   "id": "1e04156b",
   "metadata": {},
   "outputs": [
    {
     "name": "stdout",
     "output_type": "stream",
     "text": [
      "today-now function: 2025-04-10 14:07:16.508696\n"
     ]
    }
   ],
   "source": [
    "import datetime\n",
    "a=datetime.datetime.now()\n",
    "print(\"today-now function:\",a)"
   ]
  },
  {
   "cell_type": "code",
   "execution_count": 3,
   "id": "7fcfa19d",
   "metadata": {},
   "outputs": [
    {
     "name": "stdout",
     "output_type": "stream",
     "text": [
      "ntoday: 2025-04-10 14:09:05.779930\n"
     ]
    }
   ],
   "source": [
    "today=datetime.datetime.today()\n",
    "print(\"ntoday:\",today)"
   ]
  },
  {
   "cell_type": "code",
   "execution_count": 4,
   "id": "0af212db",
   "metadata": {},
   "outputs": [
    {
     "name": "stdout",
     "output_type": "stream",
     "text": [
      "\n",
      "tomorrow: 2025-04-13 14:09:05.779930\n"
     ]
    }
   ],
   "source": [
    "tomorrow=today+datetime.timedelta(days=3)\n",
    "print(\"\\ntomorrow:\",tomorrow)"
   ]
  },
  {
   "cell_type": "code",
   "execution_count": 9,
   "id": "c4600dd7",
   "metadata": {},
   "outputs": [
    {
     "name": "stdout",
     "output_type": "stream",
     "text": [
      "\n",
      "yesterday: 2025-04-08 14:09:05.779930\n"
     ]
    }
   ],
   "source": [
    "yesterday=today-datetime.timedelta(days=2)\n",
    "print(\"\\nyesterday:\",yesterday)"
   ]
  },
  {
   "cell_type": "code",
   "execution_count": 7,
   "id": "b06db43f",
   "metadata": {},
   "outputs": [
    {
     "name": "stdout",
     "output_type": "stream",
     "text": [
      "\n",
      "date format [2020,6,8,23,10,25,404040): 2020-06-08 23:10:25.404040\n"
     ]
    }
   ],
   "source": [
    "a=datetime.datetime.now()\n",
    "b=datetime.datetime(2020,6,8,23,10,25,404040)\n",
    "print(\"\\ndate format [2020,6,8,23,10,25,404040):\",b)"
   ]
  },
  {
   "cell_type": "code",
   "execution_count": 8,
   "id": "973a1a33",
   "metadata": {},
   "outputs": [
    {
     "name": "stdout",
     "output_type": "stream",
     "text": [
      "\n",
      "Replacing date 2024-12-31 2024-12-15\n"
     ]
    }
   ],
   "source": [
    "from datetime import date\n",
    "d=date(2024, 12, 31)\n",
    "print(\"\\nReplacing date\",d,d.replace(day=15))"
   ]
  },
  {
   "cell_type": "code",
   "execution_count": 10,
   "id": "acbcdf41",
   "metadata": {},
   "outputs": [
    {
     "name": "stdout",
     "output_type": "stream",
     "text": [
      "\n",
      "Day and Month: 2004-04-17 Sat Apr 17 00:00:00 2004\n"
     ]
    }
   ],
   "source": [
    "t=date(2004,4,17)\n",
    "d=date(2004,4,17).ctime()\n",
    "print(\"\\nDay and Month:\",t,d)"
   ]
  },
  {
   "cell_type": "code",
   "execution_count": 12,
   "id": "3a21bfee",
   "metadata": {},
   "outputs": [
    {
     "name": "stdout",
     "output_type": "stream",
     "text": [
      "\n",
      "Today: 2025-04-10\n",
      "Current year: 2025\n",
      "Current month: 4\n",
      "Current day: 10\n"
     ]
    }
   ],
   "source": [
    "today=date.today()\n",
    "print(\"\\nToday:\",today)\n",
    "print(\"Current year:\", today.year)\n",
    "print(\"Current month:\", today.month)\n",
    "print(\"Current day:\",today.day)"
   ]
  },
  {
   "cell_type": "code",
   "execution_count": null,
   "id": "c68acf83",
   "metadata": {},
   "outputs": [],
   "source": []
  }
 ],
 "metadata": {
  "kernelspec": {
   "display_name": "Python 3 (ipykernel)",
   "language": "python",
   "name": "python3"
  },
  "language_info": {
   "codemirror_mode": {
    "name": "ipython",
    "version": 3
   },
   "file_extension": ".py",
   "mimetype": "text/x-python",
   "name": "python",
   "nbconvert_exporter": "python",
   "pygments_lexer": "ipython3",
   "version": "3.10.9"
  }
 },
 "nbformat": 4,
 "nbformat_minor": 5
}
